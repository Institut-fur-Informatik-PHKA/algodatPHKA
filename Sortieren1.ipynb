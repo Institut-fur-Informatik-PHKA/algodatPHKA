import datetime
import random

#Liste = [3,1,33,23,12,5,6]
Liste = [random.randint(1, 400) for iter in range(1000)]

L = len(Liste)

a = datetime.datetime.now()

for i in range(L-1):
    for i in range(L):
        if i<L-1:
            if Liste[i+1]<Liste[i]:
                xt = Liste[i+1]
                Liste[i+1] = Liste[i]
                Liste[i] = xt
                
b = datetime.datetime.now()

duration = b-a
duration_in_s = duration.total_seconds()*1000
print(duration_in_s)

print(Liste)

